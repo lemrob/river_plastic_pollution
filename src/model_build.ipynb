{
 "cells": [
  {
   "cell_type": "markdown",
   "metadata": {},
   "source": [
    "#### ***Model build***"
   ]
  },
  {
   "cell_type": "markdown",
   "metadata": {},
   "source": [
    "##### ***Aim:*** \n",
    "- To show the seasonality of the annual plastic pollution, predicted from the precipitation data\n",
    "\n",
    "##### ***Context:***\n",
    "- Building on The Ocean Cleanup model which shows an annual pollution level for 1000 rivers\n",
    "- Focusing on the top 10 polluting rivers in South East Asia\n",
    "- Aiming to vizualise this on a map, with an interactive slider across each month\n",
    "- In my simplified version, precipitation is used as a proxy for Mobilization (P(M)) from The Ocean Cleanup model\n",
    "    - Mobilization is then related to plastic pollution\n",
    "\n",
    "\n"
   ]
  },
  {
   "cell_type": "code",
   "execution_count": null,
   "metadata": {
    "vscode": {
     "languageId": "plaintext"
    }
   },
   "outputs": [],
   "source": []
  },
  {
   "cell_type": "code",
   "execution_count": null,
   "metadata": {
    "vscode": {
     "languageId": "plaintext"
    }
   },
   "outputs": [],
   "source": []
  }
 ],
 "metadata": {
  "language_info": {
   "name": "python"
  }
 },
 "nbformat": 4,
 "nbformat_minor": 2
}
